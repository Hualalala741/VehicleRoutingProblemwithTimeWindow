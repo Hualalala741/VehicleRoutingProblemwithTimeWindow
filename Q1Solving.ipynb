{
 "cells": [
  {
   "cell_type": "code",
   "execution_count": 1,
   "id": "ethical-minority",
   "metadata": {},
   "outputs": [],
   "source": [
    "sum_time=0\n",
    "now_t=0\n",
    "chengfa=0\n",
    "def distcal(path, dist): #[1,2,3,4]\n",
    "     # 计算路径成本（路径，距离）\n",
    "    sum_time=0\n",
    "    chi_cf=0\n",
    "    sum_fc=1\n",
    "    zaodao=0\n",
    "    chidao=0\n",
    "    sum_dist = 0  # 总成本\n",
    "    for j in range(0, len(path) - 1):\n",
    "        di = dist[int(path[j]) - 1][int(path[j + 1]) - 1]  # 查找第j和j+1个城市之间的成本\n",
    "        ti=t[int(path[j]) - 1][int(path[j + 1]) - 1] # 查找第j和j+1个城市之间的需要的时间\n",
    "        fc=f[int(path[j]) - 1][int(path[j + 1]) - 1]\n",
    "        print(fc)\n",
    "        sum_dist = sum_dist + di  # 累加\n",
    "        sum_time = sum_time + ti\n",
    "        sum_fc = sum_fc * fc\n",
    "        print(sum_fc)\n",
    "        if sum_time<T[int(path[j+1]) - 1][0]:\n",
    "            sum_time=sum_time+(T[int(path[j+1]) - 1][0]-sum_time)\n",
    "#             chengfa=chengfa+(T[int(path[j+1]) - 1][0]-sum_time)\n",
    "            zaodao=zaodao+1\n",
    "        if sum_time>T[int(path[j+1]) - 1][1]:#如果超过时间 惩罚\n",
    "            chi_cf=chi_cf+sum_time-T[int(path[j+1]) - 1][1]\n",
    "            chidao =chidao+1\n",
    "            sum_time=sum_time+t[int(path[len(path) - 1]) - 1][path[0] - 1]\n",
    "            return sum_dist ,sum_time , chi_cf , sum_fc ,chidao,zaodao"
   ]
  },
  {
   "cell_type": "code",
   "execution_count": null,
   "id": "variable-opera",
   "metadata": {},
   "outputs": [],
   "source": []
  }
 ],
 "metadata": {
  "kernelspec": {
   "display_name": "Python 3",
   "language": "python",
   "name": "python3"
  },
  "language_info": {
   "codemirror_mode": {
    "name": "ipython",
    "version": 3
   },
   "file_extension": ".py",
   "mimetype": "text/x-python",
   "name": "python",
   "nbconvert_exporter": "python",
   "pygments_lexer": "ipython3",
   "version": "3.6.5"
  }
 },
 "nbformat": 4,
 "nbformat_minor": 5
}
