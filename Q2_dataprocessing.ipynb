{
 "cells": [
  {
   "cell_type": "code",
   "execution_count": 371,
   "id": "forward-princess",
   "metadata": {},
   "outputs": [],
   "source": [
    "import requests\n",
    "import json\n",
    "import xlrd\n",
    "import time\n",
    "from tqdm import tqdm\n",
    "\n",
    "def get_info(ordi,des):\n",
    "#     https://api.map.baidu.com/routematrix/v2/driving?\n",
    "# \"http://api.map.baidu.com/routematrix/v2/driving?output=json&origins=40.45,116.34|40.54,116.35&destinations=40.34,116.45|40.35,116.46&ak=NlO8OYrXPkh3eE8wNKPNhH9RIZZKOVh9\"#\n",
    "    api=\"http://api.map.baidu.com/routematrix/v2/driving?origins=\"+ordi+\"&destinations=\"+des+\"&ak=wbhijaDzz4ZENFYg99Xpw6MlcBRkB1KZ\"#输入目标点经纬度和百度AK（服务器端）\n",
    "#     print(api)\n",
    "    req=requests.get(api)\n",
    "    content=req.content\n",
    "    ajson=json.loads(content)\n",
    "    print(ajson['message'])\n",
    "    res=ajson['result']\n",
    "    a_list=[] \n",
    "    d_list=[]\n",
    "    t_list=[]\n",
    "    for i in range(len(res)):\n",
    "        dis= res[i]['distance']['value']/1000\n",
    "        time=res[i]['duration']['value']/60\n",
    "        a_list.append({'距离':dis,'时间':time})\n",
    "        d_list.append(dis)\n",
    "        t_list.append(time)\n",
    "    return a_list,d_list,t_list\n",
    "#     route=ajson['result']['routes'][0]\n",
    "#     dis=route['distance']                                #获取通行距离\n",
    "#     time=route['duration']                               #获取通行时间\n",
    "#     for i in range(len(route['steps'])):                 #获取每一个step下的道路名称\n",
    "#         alist.append(route['steps'][i]['road_name'])\n",
    "#     return dis,time,alist"
   ]
  },
  {
   "cell_type": "code",
   "execution_count": 312,
   "id": "thirty-tissue",
   "metadata": {},
   "outputs": [],
   "source": [
    "import math"
   ]
  },
  {
   "cell_type": "code",
   "execution_count": 372,
   "id": "hybrid-nitrogen",
   "metadata": {},
   "outputs": [
    {
     "name": "stdout",
     "output_type": "stream",
     "text": [
      "37\n",
      "成功\n",
      "38\n",
      "成功\n",
      "39\n",
      "成功\n",
      "40\n",
      "成功\n",
      "41\n",
      "成功\n",
      "42\n",
      "成功\n",
      "43\n",
      "成功\n",
      "44\n",
      "成功\n",
      "45\n",
      "成功\n",
      "46\n",
      "成功\n",
      "47\n",
      "成功\n",
      "48\n",
      "成功\n",
      "49\n",
      "成功\n"
     ]
    }
   ],
   "source": [
    "# d=[]\n",
    "# t=[]\n",
    "# t=np.zeros((50,50))\n",
    "# d=np.zeros((50,50))\n",
    "for i in range(37,50):\n",
    "    print(i)\n",
    "    ordi=str(df.iloc[i,1])+','+str(df.iloc[i,0])\n",
    "# ordi='22.59495967,113.9882468'\n",
    "    des=a[:-1]\n",
    "# '22.59495967,113.9882468|22.53399709,114.0580848|22.56632264,113.9835116'\n",
    "# |114.0580848,22.53399709|113.9835116,22.56632264 113.9882468,22.59495967\n",
    "    res,dis,time=get_info(ordi,des)\n",
    "    bb=np.array(dis).T\n",
    "    tt=np.array(time).T\n",
    "    d[i]=bb\n",
    "    t[i]=tt\n"
   ]
  },
  {
   "cell_type": "code",
   "execution_count": 380,
   "id": "senior-tuner",
   "metadata": {},
   "outputs": [
    {
     "data": {
      "text/plain": [
       "array([[0.        , 6.91666667, 8.85      , ..., 2.71666667, 9.05      ,\n",
       "        4.51666667],\n",
       "       [6.6       , 0.        , 7.96666667, ..., 4.65      , 8.16666667,\n",
       "        6.8       ],\n",
       "       [9.23333333, 7.43333333, 0.        , ..., 7.4       , 0.41666667,\n",
       "        5.53333333],\n",
       "       ...,\n",
       "       [2.63333333, 5.13333333, 7.38333333, ..., 0.        , 7.58333333,\n",
       "        2.91666667],\n",
       "       [9.2       , 7.38333333, 0.35      , ..., 7.35      , 0.        ,\n",
       "        5.48333333],\n",
       "       [4.65      , 6.35      , 5.31666667, ..., 3.31666667, 5.51666667,\n",
       "        0.        ]])"
      ]
     },
     "execution_count": 380,
     "metadata": {},
     "output_type": "execute_result"
    }
   ],
   "source": []
  },
  {
   "cell_type": "code",
   "execution_count": 383,
   "id": "apart-planet",
   "metadata": {},
   "outputs": [],
   "source": [
    "res=pd.DataFrame(t)\n",
    "res.to_excel(r'C:/Users/86136/Desktop/建模课设/time50.xlsx',index=None,header=None)"
   ]
  },
  {
   "cell_type": "code",
   "execution_count": 132,
   "id": "conservative-ensemble",
   "metadata": {},
   "outputs": [
    {
     "data": {
      "text/plain": [
       "array([13.768,  5.86 ,  8.263, 12.939, 14.307, 13.786,  9.931, 22.487,\n",
       "       10.697,  8.761, 17.265,  7.875, 11.71 , 11.427, 10.074,  2.502,\n",
       "        3.917,  8.752,  2.937, 12.639, 16.188, 10.31 , 10.658, 15.614,\n",
       "       13.874, 15.067, 13.83 ,  3.514, 10.263, 10.516, 10.783,  9.519,\n",
       "       11.14 ,  9.024, 14.579,  8.764, 13.813,  9.783,  3.537, 11.788,\n",
       "       15.649,  1.212,  6.615, 11.227, 21.691, 13.866,  5.476, 11.421,\n",
       "        8.579, 13.388])"
      ]
     },
     "execution_count": 132,
     "metadata": {},
     "output_type": "execute_result"
    }
   ],
   "source": [
    "import numpy as np\n",
    "np.array(dis).T\n",
    "# d=np.append(a,b,axis=0) 矩阵竖着拼"
   ]
  },
  {
   "cell_type": "code",
   "execution_count": 111,
   "id": "sitting-violence",
   "metadata": {},
   "outputs": [
    {
     "data": {
      "text/html": [
       "<div>\n",
       "<style scoped>\n",
       "    .dataframe tbody tr th:only-of-type {\n",
       "        vertical-align: middle;\n",
       "    }\n",
       "\n",
       "    .dataframe tbody tr th {\n",
       "        vertical-align: top;\n",
       "    }\n",
       "\n",
       "    .dataframe thead th {\n",
       "        text-align: right;\n",
       "    }\n",
       "</style>\n",
       "<table border=\"1\" class=\"dataframe\">\n",
       "  <thead>\n",
       "    <tr style=\"text-align: right;\">\n",
       "      <th></th>\n",
       "      <th>经度</th>\n",
       "      <th>纬度</th>\n",
       "    </tr>\n",
       "  </thead>\n",
       "  <tbody>\n",
       "    <tr>\n",
       "      <th>0</th>\n",
       "      <td>114.058085</td>\n",
       "      <td>22.533997</td>\n",
       "    </tr>\n",
       "    <tr>\n",
       "      <th>1</th>\n",
       "      <td>113.983512</td>\n",
       "      <td>22.566323</td>\n",
       "    </tr>\n",
       "    <tr>\n",
       "      <th>2</th>\n",
       "      <td>114.033637</td>\n",
       "      <td>22.633818</td>\n",
       "    </tr>\n",
       "    <tr>\n",
       "      <th>3</th>\n",
       "      <td>114.001502</td>\n",
       "      <td>22.628200</td>\n",
       "    </tr>\n",
       "    <tr>\n",
       "      <th>4</th>\n",
       "      <td>114.054137</td>\n",
       "      <td>22.582549</td>\n",
       "    </tr>\n",
       "  </tbody>\n",
       "</table>\n",
       "</div>"
      ],
      "text/plain": [
       "           经度         纬度\n",
       "0  114.058085  22.533997\n",
       "1  113.983512  22.566323\n",
       "2  114.033637  22.633818\n",
       "3  114.001502  22.628200\n",
       "4  114.054137  22.582549"
      ]
     },
     "execution_count": 111,
     "metadata": {},
     "output_type": "execute_result"
    }
   ],
   "source": [
    "df=pd.read_excel(r'C:/Users/86136/Desktop/建模课设/loc.xlsx',sheet_name='Sheet2',names=['经度','纬度'])\n",
    "df.head()"
   ]
  },
  {
   "cell_type": "code",
   "execution_count": 309,
   "id": "knowing-corruption",
   "metadata": {},
   "outputs": [],
   "source": [
    "a=''\n",
    "for i in range(df.iloc[:50,0].shape[0]):\n",
    "    a=a+str(df.iloc[i,1])+','+str(df.iloc[i,0])+'|'"
   ]
  },
  {
   "cell_type": "code",
   "execution_count": 310,
   "id": "molecular-luxembourg",
   "metadata": {},
   "outputs": [
    {
     "data": {
      "text/plain": [
       "'22.533997090004117,114.0580847754372|22.566322637979052,113.98351159939614|22.63381797884571,114.03363739231706|22.628200323317376,114.0015020188572|22.582548902113494,114.05413660325073|22.632174549622622,114.09009600065905|22.59911678818979,114.05607911918803|22.59676587774821,114.07710306593115|22.528212817344173,114.01511693013961|22.561852634649238,114.02443934202792|22.54662073538449,114.09161522234936|22.541801328792694,113.99171051800606|22.578155952397477,114.01550245735028|22.52334099317804,113.9916379668523|22.622770818778452,114.014382471378|22.604211715574916,113.99577132403797|22.592636545502216,113.99749229348411|22.6253238187727,114.0480327550672|22.6046760888756,113.988457794766|22.572823195262956,114.03168286336506|22.531208171836145,114.07617132436766|22.635279158092285,114.05110771582518|22.617308273242287,114.0172918299286|22.536246146328573,114.07354373861652|22.629983152950203,114.09136317655158|22.55457388930031,114.07769028832325|22.622542018711144,114.00616318032324|22.603369920071522,114.01305662435765|22.560577196042118,114.01931042023055|22.5364156089581,114.02919879780112|22.53674848662479,114.03396566224501|22.54929497737139,114.02224728972232|22.63978189466153,114.00709719796976|22.597179150838144,114.02752600677007|22.576626170580276,114.06005303543773|22.549227697776555,113.97187320217877|22.559240764204503,114.06247515882416|22.57963282860934,114.0220946876126|22.603945868119233,114.01023533137717|22.564528593978704,114.03268655943194|22.522801730676683,114.07199811668983|22.590807671320526,113.99367042033566|22.617351222151743,113.98394921256542|22.529021785917372,114.0292923342593|22.596210884110047,114.0755744890369|22.578914684831005,114.06643336864818|22.576408304916328,113.97454185033543|22.558747826132386,114.04796960230732|22.630744265507698,114.03771674962421|22.575183711687124,114.0678244848417|'"
      ]
     },
     "execution_count": 310,
     "metadata": {},
     "output_type": "execute_result"
    }
   ],
   "source": []
  },
  {
   "cell_type": "code",
   "execution_count": 92,
   "id": "industrial-platinum",
   "metadata": {},
   "outputs": [
    {
     "data": {
      "text/plain": [
       "[22.533997090004117,\n",
       " 22.566322637979052,\n",
       " 22.63381797884571,\n",
       " 22.628200323317376,\n",
       " 22.582548902113494,\n",
       " 22.632174549622622,\n",
       " 22.59911678818979,\n",
       " 22.59676587774821,\n",
       " 22.528212817344173,\n",
       " 22.561852634649238,\n",
       " 22.54662073538449,\n",
       " 22.541801328792694,\n",
       " 22.578155952397477,\n",
       " 22.52334099317804,\n",
       " 22.622770818778452,\n",
       " 22.604211715574916,\n",
       " 22.592636545502216,\n",
       " 22.6253238187727,\n",
       " 22.6046760888756,\n",
       " 22.572823195262956,\n",
       " 22.531208171836145,\n",
       " 22.635279158092285,\n",
       " 22.617308273242287,\n",
       " 22.536246146328573,\n",
       " 22.629983152950203,\n",
       " 22.55457388930031,\n",
       " 22.622542018711144,\n",
       " 22.603369920071522,\n",
       " 22.560577196042118,\n",
       " 22.5364156089581,\n",
       " 22.53674848662479,\n",
       " 22.54929497737139,\n",
       " 22.63978189466153,\n",
       " 22.597179150838144,\n",
       " 22.576626170580276,\n",
       " 22.549227697776555,\n",
       " 22.559240764204503,\n",
       " 22.57963282860934,\n",
       " 22.603945868119233,\n",
       " 22.564528593978704,\n",
       " 22.522801730676683,\n",
       " 22.590807671320526,\n",
       " 22.617351222151743,\n",
       " 22.529021785917372,\n",
       " 22.596210884110047,\n",
       " 22.578914684831005,\n",
       " 22.576408304916328,\n",
       " 22.558747826132386,\n",
       " 22.630744265507698]"
      ]
     },
     "execution_count": 92,
     "metadata": {},
     "output_type": "execute_result"
    }
   ],
   "source": [
    "a=df.iloc[:,1]\n",
    "a.tolist()"
   ]
  },
  {
   "cell_type": "code",
   "execution_count": 56,
   "id": "functional-treatment",
   "metadata": {},
   "outputs": [],
   "source": [
    "# api=\"http://api.map.baidu.com/routematrix/v2/driving?output=json&origins=40.45,116.34|40.54,116.35&destinations=40.34,116.45|40.35,116.46&ak=NlO8OYrXPkh3eE8wNKPNhH9RIZZKOVh9\"#输入目标点经纬度和百度AK（服务器端）\n",
    "api='http://api.map.baidu.com/routematrix/v2/driving?output=json&origins=22.59495967,113.9882468&destinations=22.59495967,113.9882468&ak=NlO8OYrXPkh3eE8wNKPNhH9RIZZKOVh9'\n",
    "req=requests.get(api)\n",
    "content=req.content\n",
    "ajson=json.loads(content)"
   ]
  },
  {
   "cell_type": "markdown",
   "id": "viral-banner",
   "metadata": {},
   "source": [
    "# 下面量化方差"
   ]
  },
  {
   "cell_type": "code",
   "execution_count": null,
   "id": "technical-corner",
   "metadata": {},
   "outputs": [],
   "source": []
  },
  {
   "cell_type": "code",
   "execution_count": null,
   "id": "laden-spokesman",
   "metadata": {},
   "outputs": [],
   "source": [
    "#道路中点\n",
    "def count_val(df,df_fea):\n",
    "    #算重点\n",
    "    cc=np.zeros((50,50))\n",
    "    for i in range(50):\n",
    "        x1=df.iloc[i,0]\n",
    "        y1=df.iloc[i,1]\n",
    "        for j in range(50):\n",
    "            x2=df.iloc[j,0]\n",
    "            y2=df.iloc[j,1]\n",
    "            xc=(x1+x2)/2\n",
    "            yc=(y1+y2)/2\n",
    "            cc[i][j]=(xc,yc)"
   ]
  },
  {
   "cell_type": "code",
   "execution_count": 167,
   "id": "through-entertainment",
   "metadata": {},
   "outputs": [],
   "source": [
    "cc=np.zeros((50,50))"
   ]
  },
  {
   "cell_type": "code",
   "execution_count": 179,
   "id": "disciplinary-mixer",
   "metadata": {},
   "outputs": [],
   "source": [
    "ccx=np.zeros((50,50))\n",
    "ccy=np.zeros((50,50))\n",
    "for i in range(50):\n",
    "    x1=df.iloc[i,0]\n",
    "    y1=df.iloc[i,1]\n",
    "    for j in range(50):\n",
    "        x2=df.iloc[j,0]\n",
    "        y2=df.iloc[j,1]\n",
    "        xc=(x1+x2)/2\n",
    "        yc=(y1+y2)/2\n",
    "#         print(xc,yc)\n",
    "        ccx[i][j]=xc\n",
    "        ccy[i][j]=yc"
   ]
  },
  {
   "cell_type": "code",
   "execution_count": 186,
   "id": "extraordinary-principle",
   "metadata": {},
   "outputs": [],
   "source": [
    "df1=pd.read_excel(r'C:/Users/86136/Desktop/建模课设/积水.xlsx')"
   ]
  },
  {
   "cell_type": "code",
   "execution_count": 197,
   "id": "banned-boring",
   "metadata": {},
   "outputs": [
    {
     "data": {
      "text/plain": [
       "array([[22.53399709, 22.55015986, 22.58390753, ..., 22.54637246,\n",
       "        22.58237068, 22.5545904 ],\n",
       "       [22.55015986, 22.56632264, 22.60007031, ..., 22.56253523,\n",
       "        22.59853345, 22.57075317],\n",
       "       [22.58390753, 22.60007031, 22.63381798, ..., 22.5962829 ,\n",
       "        22.63228112, 22.60450085],\n",
       "       ...,\n",
       "       [22.54637246, 22.56253523, 22.5962829 , ..., 22.55874783,\n",
       "        22.59474605, 22.56696577],\n",
       "       [22.58237068, 22.59853345, 22.63228112, ..., 22.59474605,\n",
       "        22.63074427, 22.60296399],\n",
       "       [22.5545904 , 22.57075317, 22.60450085, ..., 22.56696577,\n",
       "        22.60296399, 22.57518371]])"
      ]
     },
     "execution_count": 197,
     "metadata": {},
     "output_type": "execute_result"
    }
   ],
   "source": [
    "ccy"
   ]
  },
  {
   "cell_type": "code",
   "execution_count": 194,
   "id": "handled-birmingham",
   "metadata": {},
   "outputs": [
    {
     "data": {
      "text/plain": [
       "114.055961"
      ]
     },
     "execution_count": 194,
     "metadata": {},
     "output_type": "execute_result"
    }
   ],
   "source": [
    "df1.iloc[1:,1][1]"
   ]
  },
  {
   "cell_type": "code",
   "execution_count": 230,
   "id": "linear-dividend",
   "metadata": {},
   "outputs": [
    {
     "ename": "KeyboardInterrupt",
     "evalue": "",
     "output_type": "error",
     "traceback": [
      "\u001b[1;31m---------------------------------------------------------------------------\u001b[0m",
      "\u001b[1;31mKeyboardInterrupt\u001b[0m                         Traceback (most recent call last)",
      "\u001b[1;32m<ipython-input-230-f20e7fc58f7f>\u001b[0m in \u001b[0;36m<module>\u001b[1;34m()\u001b[0m\n\u001b[0;32m      8\u001b[0m                 \u001b[0md1\u001b[0m\u001b[1;33m=\u001b[0m\u001b[0mmath\u001b[0m\u001b[1;33m.\u001b[0m\u001b[0msqrt\u001b[0m\u001b[1;33m(\u001b[0m\u001b[0mmath\u001b[0m\u001b[1;33m.\u001b[0m\u001b[0mpow\u001b[0m\u001b[1;33m(\u001b[0m\u001b[0mccx\u001b[0m\u001b[1;33m[\u001b[0m\u001b[0ma\u001b[0m\u001b[1;33m]\u001b[0m\u001b[1;33m[\u001b[0m\u001b[0mb\u001b[0m\u001b[1;33m]\u001b[0m\u001b[1;33m-\u001b[0m\u001b[0mjs_x\u001b[0m\u001b[1;33m,\u001b[0m\u001b[1;36m2\u001b[0m\u001b[1;33m)\u001b[0m\u001b[1;33m+\u001b[0m\u001b[0mmath\u001b[0m\u001b[1;33m.\u001b[0m\u001b[0mpow\u001b[0m\u001b[1;33m(\u001b[0m\u001b[0mccy\u001b[0m\u001b[1;33m[\u001b[0m\u001b[0ma\u001b[0m\u001b[1;33m]\u001b[0m\u001b[1;33m[\u001b[0m\u001b[0mb\u001b[0m\u001b[1;33m]\u001b[0m\u001b[1;33m-\u001b[0m\u001b[0mjs_y\u001b[0m\u001b[1;33m,\u001b[0m\u001b[1;36m2\u001b[0m\u001b[1;33m)\u001b[0m\u001b[1;33m)\u001b[0m\u001b[1;33m\u001b[0m\u001b[0m\n\u001b[0;32m      9\u001b[0m                 \u001b[0mfea\u001b[0m\u001b[1;33m.\u001b[0m\u001b[0mappend\u001b[0m\u001b[1;33m(\u001b[0m\u001b[0md1\u001b[0m\u001b[1;33m)\u001b[0m\u001b[1;33m\u001b[0m\u001b[0m\n\u001b[1;32m---> 10\u001b[1;33m                 \u001b[0mnp\u001b[0m\u001b[1;33m.\u001b[0m\u001b[0marray\u001b[0m\u001b[1;33m(\u001b[0m\u001b[0mfea\u001b[0m\u001b[1;33m)\u001b[0m\u001b[1;33m\u001b[0m\u001b[0m\n\u001b[0m",
      "\u001b[1;31mKeyboardInterrupt\u001b[0m: "
     ]
    }
   ],
   "source": [
    "for i in range(8):\n",
    "    for j in range(8):\n",
    "        js_x=df1.iloc[i][1]\n",
    "        js_y=df1.iloc[j][2]#循环每个积水路段\n",
    "        for a in range(50):\n",
    "            fea1=[]\n",
    "            for b in range(50):#循环每个点\n",
    "                d1=math.sqrt(math.pow(ccx[a][b]-js_x,2)+math.pow(ccy[a][b]-js_y,2))\n",
    "                fea1.append(d1)\n",
    "                np.array(fea1)\n",
    "            "
   ]
  },
  {
   "cell_type": "code",
   "execution_count": 276,
   "id": "respiratory-selling",
   "metadata": {},
   "outputs": [],
   "source": [
    "#地球任意两点的距离\n",
    "from math import radians, cos, sin, asin, sqrt\n",
    "def gdis(lng1,lat1,lng2,lat2):#经 为\n",
    "    #lng1,lat1,lng2,lat2 = (120.12802999999997,30.28708,115.86572000000001,28.7427)\n",
    "    lng1, lat1, lng2, lat2 = map(radians, [float(lng1), float(lat1), float(lng2), float(lat2)]) # 经纬度转换成弧度\n",
    "    dlon=lng2-lng1\n",
    "    dlat=lat2-lat1\n",
    "    a=sin(dlat/2)**2 + cos(lat1) * cos(lat2) * sin(dlon/2)**2\n",
    "    distance=2*asin(sqrt(a))*6371*1000 # 地球平均半径，6371km\n",
    "    distance=round(distance/1000,3)\n",
    "    return distance"
   ]
  },
  {
   "cell_type": "code",
   "execution_count": 400,
   "id": "persistent-affect",
   "metadata": {},
   "outputs": [],
   "source": [
    "def fea_juzhen(cxx,cyy,df1):\n",
    "    js_min=np.zeros((50,50))\n",
    "#     js_min=np.array(js_min)\n",
    "    for a in range(50):\n",
    "        js_min_h=[]\n",
    "        for b in range(50):#循环每个点\n",
    "            xc=ccx[a][b]\n",
    "            yc=ccy[a][b]\n",
    "            ddd=[]\n",
    "            for i in range(df1.shape[0]):\n",
    "                js_x=df1.iloc[i][1]\n",
    "                js_y=df1.iloc[i][2]\n",
    "                d1=gdis(ccx[a][b],ccy[a][b],js_x,js_y)\n",
    "    #             math.sqrt(math.pow(ccx[a][b]-js_x,2)+math.pow(ccy[a][b]-js_y,2))\n",
    "                ddd.append(d1)#每个点对应的八个距离\n",
    "            js_min_h.append(min(ddd))\n",
    "            hang=np.array(js_min_h)\n",
    "        js_min[a]=hang\n",
    "    return js_min\n",
    "#         js_min=np.r_[js_min,hang]"
   ]
  },
  {
   "cell_type": "code",
   "execution_count": 297,
   "id": "average-contest",
   "metadata": {},
   "outputs": [],
   "source": [
    "def shangquan(cxx,cyy,df1):\n",
    "\n",
    "    js_min=[]\n",
    "    js_min=np.array(js_min)\n",
    "    for a in range(50):\n",
    "        js_min_h=[]\n",
    "        for b in range(50):#循环每个点\n",
    "            xc=ccx[a][b]\n",
    "            yc=ccy[a][b]\n",
    "            ddd=[]\n",
    "            for i in range(df1.shape[0]):\n",
    "                js_x=df1.iloc[i][1]\n",
    "                js_y=df1.iloc[i][2]\n",
    "                d1=gdis(ccx[a][b],ccy[a][b],js_x,js_y)\n",
    "    #             math.sqrt(math.pow(ccx[a][b]-js_x,2)+math.pow(ccy[a][b]-js_y,2))\n",
    "                ddd.append(d1)#每个点对应的八个距离\n",
    "            js_min_h.append(min(ddd))\n",
    "            hang=np.array(js_min_h)\n",
    "        js_min=np.append(js_min,hang)\n",
    "    return js_min"
   ]
  },
  {
   "cell_type": "code",
   "execution_count": 298,
   "id": "ancient-temperature",
   "metadata": {},
   "outputs": [],
   "source": [
    "aaabs=shangquan(ccx,ccy,df1)"
   ]
  },
  {
   "cell_type": "code",
   "execution_count": 300,
   "id": "clear-terrain",
   "metadata": {},
   "outputs": [],
   "source": [
    "res=pd.DataFrame(aaabs)\n",
    "res.to_excel(r'C:/Users/86136/Desktop/建模课设/积水熵权.xlsx')"
   ]
  },
  {
   "cell_type": "code",
   "execution_count": 301,
   "id": "manual-strap",
   "metadata": {},
   "outputs": [],
   "source": [
    "df2=pd.read_excel(r'C:/Users/86136/Desktop/建模课设/事故.xlsx')\n",
    "aaab=shangquan(ccx,ccy,df2)"
   ]
  },
  {
   "cell_type": "code",
   "execution_count": 305,
   "id": "spanish-violence",
   "metadata": {},
   "outputs": [],
   "source": [
    "res=pd.DataFrame(aaab)\n",
    "res.to_excel(r'C:/Users/86136/Desktop/建模课设/事故熵权.xlsx')"
   ]
  },
  {
   "cell_type": "code",
   "execution_count": 393,
   "id": "coordinated-kruger",
   "metadata": {},
   "outputs": [],
   "source": [
    "df3=pd.read_excel(r'C:/Users/86136/Desktop/建模课设/商场.xlsx',header=None)\n",
    "aaab=shangquan(ccx,ccy,df3)\n",
    "res=pd.DataFrame(aaab)\n",
    "res.to_excel(r'C:/Users/86136/Desktop/建模课设/人流量熵权.xlsx')"
   ]
  },
  {
   "cell_type": "code",
   "execution_count": 401,
   "id": "atomic-fence",
   "metadata": {},
   "outputs": [],
   "source": [
    "fea1=fea_juzhen(ccx,ccy,df1)"
   ]
  },
  {
   "cell_type": "code",
   "execution_count": 404,
   "id": "planned-pharmacology",
   "metadata": {},
   "outputs": [],
   "source": [
    "fea2=fea_juzhen(ccx,ccy,df2)\n",
    "fea3=fea_juzhen(ccx,ccy,df3)"
   ]
  },
  {
   "cell_type": "code",
   "execution_count": 405,
   "id": "formed-spread",
   "metadata": {},
   "outputs": [],
   "source": [
    "f1=pd.DataFrame(fea1)\n",
    "f2=pd.DataFrame(fea2)\n",
    "f3=pd.DataFrame(fea3)"
   ]
  },
  {
   "cell_type": "code",
   "execution_count": 440,
   "id": "herbal-saudi",
   "metadata": {},
   "outputs": [],
   "source": [
    "jieguo=0.308227898563264*f2+0.387103909087*f1+0.304668192348933*f3"
   ]
  },
  {
   "cell_type": "code",
   "execution_count": 419,
   "id": "nasty-peter",
   "metadata": {},
   "outputs": [],
   "source": [
    "maxx=jieguo.max().max()\n",
    "mini=jieguo.min().min()\n",
    "rr=(maxx-mini)/3"
   ]
  },
  {
   "cell_type": "code",
   "execution_count": 421,
   "id": "historical-botswana",
   "metadata": {},
   "outputs": [
    {
     "data": {
      "text/plain": [
       "(2.744909882415712, 5.489819764831424)"
      ]
     },
     "execution_count": 421,
     "metadata": {},
     "output_type": "execute_result"
    }
   ],
   "source": [
    "rr,rr*2"
   ]
  },
  {
   "cell_type": "code",
   "execution_count": 422,
   "id": "engaged-jesus",
   "metadata": {},
   "outputs": [
    {
     "data": {
      "text/plain": [
       "(0.6031526252513192, 8.837882272498454)"
      ]
     },
     "execution_count": 422,
     "metadata": {},
     "output_type": "execute_result"
    }
   ],
   "source": [
    "mini,maxx"
   ]
  },
  {
   "cell_type": "code",
   "execution_count": 424,
   "id": "moral-companion",
   "metadata": {},
   "outputs": [
    {
     "ename": "ValueError",
     "evalue": "The truth value of a DataFrame is ambiguous. Use a.empty, a.bool(), a.item(), a.any() or a.all().",
     "output_type": "error",
     "traceback": [
      "\u001b[1;31m---------------------------------------------------------------------------\u001b[0m",
      "\u001b[1;31mValueError\u001b[0m                                Traceback (most recent call last)",
      "\u001b[1;32m<ipython-input-424-9953b4236d80>\u001b[0m in \u001b[0;36m<module>\u001b[1;34m()\u001b[0m\n\u001b[1;32m----> 1\u001b[1;33m \u001b[0mjieguo\u001b[0m\u001b[1;33m[\u001b[0m\u001b[0mmini\u001b[0m\u001b[1;33m<\u001b[0m\u001b[0mjieguo\u001b[0m\u001b[1;33m<\u001b[0m\u001b[0mrr\u001b[0m\u001b[1;33m]\u001b[0m\u001b[1;33m\u001b[0m\u001b[0m\n\u001b[0m",
      "\u001b[1;32m~\\Anaconda3\\lib\\site-packages\\pandas\\core\\generic.py\u001b[0m in \u001b[0;36m__nonzero__\u001b[1;34m(self)\u001b[0m\n\u001b[0;32m   1328\u001b[0m     \u001b[1;32mdef\u001b[0m \u001b[0m__nonzero__\u001b[0m\u001b[1;33m(\u001b[0m\u001b[0mself\u001b[0m\u001b[1;33m)\u001b[0m\u001b[1;33m:\u001b[0m\u001b[1;33m\u001b[0m\u001b[0m\n\u001b[0;32m   1329\u001b[0m         raise ValueError(\n\u001b[1;32m-> 1330\u001b[1;33m             \u001b[1;34mf\"The truth value of a {type(self).__name__} is ambiguous. \"\u001b[0m\u001b[1;33m\u001b[0m\u001b[0m\n\u001b[0m\u001b[0;32m   1331\u001b[0m             \u001b[1;34m\"Use a.empty, a.bool(), a.item(), a.any() or a.all().\"\u001b[0m\u001b[1;33m\u001b[0m\u001b[0m\n\u001b[0;32m   1332\u001b[0m         )\n",
      "\u001b[1;31mValueError\u001b[0m: The truth value of a DataFrame is ambiguous. Use a.empty, a.bool(), a.item(), a.any() or a.all()."
     ]
    }
   ],
   "source": [
    "jieguo[mini<jieguo<rr]"
   ]
  },
  {
   "cell_type": "code",
   "execution_count": 441,
   "id": "altered-screening",
   "metadata": {},
   "outputs": [],
   "source": [
    "jieguo[(jieguo>=mini)&(jieguo<rr)]=50"
   ]
  },
  {
   "cell_type": "code",
   "execution_count": 443,
   "id": "promising-actor",
   "metadata": {},
   "outputs": [],
   "source": [
    "jieguo[(jieguo>=rr)&(jieguo<rr*2)]=100\n",
    "jieguo[(jieguo>=rr*2)&(jieguo<=maxx)]=150"
   ]
  },
  {
   "cell_type": "code",
   "execution_count": 473,
   "id": "armed-tunnel",
   "metadata": {},
   "outputs": [],
   "source": [
    "jieguo[(jieguo==5)]=0.95"
   ]
  },
  {
   "cell_type": "code",
   "execution_count": 474,
   "id": "alpha-friendship",
   "metadata": {},
   "outputs": [],
   "source": [
    "jieguo[(jieguo==10)]=0.9\n",
    "jieguo[(jieguo==15)]=0.85"
   ]
  },
  {
   "cell_type": "code",
   "execution_count": 475,
   "id": "altered-engine",
   "metadata": {},
   "outputs": [],
   "source": [
    "res=pd.DataFrame(jieguo)\n",
    "res.to_excel(r'C:/Users/86136/Desktop/建模课设/方差.xlsx',index=None,header=None)"
   ]
  },
  {
   "cell_type": "code",
   "execution_count": 451,
   "id": "structured-sphere",
   "metadata": {},
   "outputs": [
    {
     "data": {
      "text/plain": [
       "27.557"
      ]
     },
     "execution_count": 451,
     "metadata": {},
     "output_type": "execute_result"
    }
   ],
   "source": [
    "d.max()"
   ]
  },
  {
   "cell_type": "code",
   "execution_count": 454,
   "id": "dense-conflict",
   "metadata": {},
   "outputs": [
    {
     "ename": "AttributeError",
     "evalue": "'numpy.ndarray' object has no attribute 'describe'",
     "output_type": "error",
     "traceback": [
      "\u001b[1;31m---------------------------------------------------------------------------\u001b[0m",
      "\u001b[1;31mAttributeError\u001b[0m                            Traceback (most recent call last)",
      "\u001b[1;32m<ipython-input-454-aceb2410b4df>\u001b[0m in \u001b[0;36m<module>\u001b[1;34m()\u001b[0m\n\u001b[1;32m----> 1\u001b[1;33m \u001b[0mt\u001b[0m\u001b[1;33m.\u001b[0m\u001b[0mdescribe\u001b[0m\u001b[1;33m(\u001b[0m\u001b[1;33m)\u001b[0m\u001b[1;33m\u001b[0m\u001b[0m\n\u001b[0m",
      "\u001b[1;31mAttributeError\u001b[0m: 'numpy.ndarray' object has no attribute 'describe'"
     ]
    }
   ],
   "source": [
    "t.describe()"
   ]
  },
  {
   "cell_type": "code",
   "execution_count": 471,
   "id": "present-directory",
   "metadata": {},
   "outputs": [
    {
     "data": {
      "text/plain": [
       "319.3"
      ]
     },
     "execution_count": 471,
     "metadata": {},
     "output_type": "execute_result"
    }
   ],
   "source": []
  },
  {
   "cell_type": "code",
   "execution_count": 472,
   "id": "postal-terminology",
   "metadata": {},
   "outputs": [
    {
     "data": {
      "text/plain": [
       "array([ 6.6       ,  0.        ,  7.96666667, 10.88333333,  6.45      ,\n",
       "       11.41666667,  8.68333333, 11.8       ,  4.68333333,  2.98333333,\n",
       "        8.28333333,  2.91666667,  4.83333333,  5.13333333,  9.1       ,\n",
       "        4.96666667,  5.15      ,  8.26666667,  5.58333333,  5.41666667,\n",
       "        8.15      ,  9.25      ,  9.46666667,  7.51666667, 11.46666667,\n",
       "        6.93333333, 11.45      ,  5.15      ,  4.23333333,  4.56666667,\n",
       "        4.73333333,  3.95      ,  9.76666667,  7.5       ,  6.61666667,\n",
       "        3.43333333,  6.15      ,  3.61666667,  5.16666667,  4.88333333,\n",
       "        7.71666667,  4.26666667,  6.46666667,  5.01666667, 11.3       ,\n",
       "        6.7       ,  1.93333333,  4.65      ,  8.16666667,  6.8       ])"
      ]
     },
     "execution_count": 472,
     "metadata": {},
     "output_type": "execute_result"
    }
   ],
   "source": []
  },
  {
   "cell_type": "code",
   "execution_count": null,
   "id": "minimal-labor",
   "metadata": {},
   "outputs": [],
   "source": []
  }
 ],
 "metadata": {
  "kernelspec": {
   "display_name": "Python 3",
   "language": "python",
   "name": "python3"
  },
  "language_info": {
   "codemirror_mode": {
    "name": "ipython",
    "version": 3
   },
   "file_extension": ".py",
   "mimetype": "text/x-python",
   "name": "python",
   "nbconvert_exporter": "python",
   "pygments_lexer": "ipython3",
   "version": "3.6.5"
  }
 },
 "nbformat": 4,
 "nbformat_minor": 5
}
